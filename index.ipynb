{
 "cells": [
  {
   "cell_type": "code",
   "execution_count": null,
   "metadata": {},
   "outputs": [],
   "source": [
    "%matplotlib inline\n",
    "\n",
    "import sys\n",
    "import os\n",
    "import numpy as np\n",
    "import cv2 as cv\n",
    "\n",
    "import tensorflow as tf\n",
    "import matplotlib.pyplot as plt\n",
    "\n",
    "from models import resnet as resnet"
   ]
  },
  {
   "cell_type": "code",
   "execution_count": null,
   "metadata": {},
   "outputs": [],
   "source": [
    "def _load_dictionary(dict_file):\n",
    "    dictionary = dict()\n",
    "    with open(dict_file, 'r') as lines:\n",
    "        for line in lines:\n",
    "            sp = line.rstrip('\\n').split('\\t')\n",
    "            idx, name = sp[0], sp[1]\n",
    "            dictionary[idx] = name\n",
    "    return dictionary\n",
    "\n",
    "def preprocess(img):\n",
    "    rawH = float(img.shape[0])\n",
    "    rawW = float(img.shape[1])\n",
    "    newH = 256.0\n",
    "    newW = 256.0\n",
    "    test_crop = 224.0 \n",
    "\n",
    "    if rawH <= rawW:\n",
    "        newW = (rawW/rawH) * newH\n",
    "    else:\n",
    "        newH = (rawH/rawW) * newW\n",
    "    img = cv.resize(img, (int(newW), int(newH)))\n",
    "    img = img[int((newH-test_crop)/2):int((newH-test_crop)/2)+int(test_crop),int((newW-test_crop)/2):int((newW-test_crop)/2)+int(test_crop)]\n",
    "    img = ((img/255.0) - 0.5) * 2.0\n",
    "    return img[...,::-1]\n",
    "\n",
    "\n",
    "def load_model(sess, checkpoint, input_shape=(224, 224, 3)):\n",
    "    # build model\n",
    "    images = tf.placeholder(dtype=tf.float32, shape=list((None, ) + input_shape))\n",
    "    net = resnet.ResNet(images, is_training=False)\n",
    "    net.build_model()\n",
    "\n",
    "    # restore model\n",
    "    saver = tf.train.Saver(tf.global_variables())\n",
    "    saver.restore(sess, checkpoint)\n",
    "\n",
    "    return net"
   ]
  },
  {
   "cell_type": "code",
   "execution_count": null,
   "metadata": {},
   "outputs": [],
   "source": [
    "sess = tf.InteractiveSession(config=tf.ConfigProto(device_count={'GPU': 0}))\n",
    "\n",
    "net = load_model(sess, \"./checkpoints/model.ckpt\", input_shape=(224, 224, 3))\n",
    "prob_topk, pred_topk = tf.nn.top_k(tf.nn.softmax(net.logit), k=20)\n",
    "\n",
    "dictionary = _load_dictionary(\"data/ml2020_dictionary.txt\")"
   ]
  },
  {
   "cell_type": "code",
   "execution_count": null,
   "metadata": {},
   "outputs": [],
   "source": [
    "types = \"center\"\n",
    "prefix = 'images/'\n",
    "\n",
    "for line in os.listdir(prefix):\n",
    "    try:\n",
    "        sp = os.path.join(prefix, line), ''\n",
    "        if not os.path.isfile(sp[0]):\n",
    "            continue\n",
    "        raw_img = cv.imread(sp[0])\n",
    "        img = preprocess(raw_img)\n",
    "        logits, probs_topk, preds_topk = sess.run(\n",
    "            [net.logit, prob_topk, pred_topk], {net.images: np.expand_dims(img, axis=0)}\n",
    "        )\n",
    "        probs_topk = np.squeeze(probs_topk)\n",
    "        preds_topk = np.squeeze(preds_topk)\n",
    "        names_topk = [dictionary[str(i)] for i in preds_topk]\n",
    "\n",
    "        fig = plt.imshow(img)\n",
    "        predictions = [\n",
    "            \"{} {}\".format(pred, names_topk[i], probs_topk[i]) for i, pred in enumerate(preds_topk)\n",
    "        ]\n",
    "        plt.title(\"\\n\".join(predictions), loc=\"left\")\n",
    "        plt.show()\n",
    "    except:\n",
    "        print('Image issue {}'.format(line))\n",
    "        continue"
   ]
  },
  {
   "cell_type": "code",
   "execution_count": null,
   "metadata": {},
   "outputs": [],
   "source": []
  }
 ],
 "metadata": {
  "kernelspec": {
   "display_name": "Python 2",
   "language": "python",
   "name": "python2"
  },
  "language_info": {
   "codemirror_mode": {
    "name": "ipython",
    "version": 2
   },
   "file_extension": ".py",
   "mimetype": "text/x-python",
   "name": "python",
   "nbconvert_exporter": "python",
   "pygments_lexer": "ipython2",
   "version": "2.7.15"
  },
  "widgets": {
   "application/vnd.jupyter.widget-state+json": {
    "state": {},
    "version_major": 2,
    "version_minor": 0
   }
  }
 },
 "nbformat": 4,
 "nbformat_minor": 4
}